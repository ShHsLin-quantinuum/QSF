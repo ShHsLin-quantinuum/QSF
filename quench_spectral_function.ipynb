{
 "cells": [
  {
   "cell_type": "markdown",
   "id": "5fdbeb32-11f7-4bb9-9c07-20bfb23be39a",
   "metadata": {},
   "source": [
    "# Quench Spectral function\n",
    "\n",
    "Here we consider a novel way to obtain the spectral properties of the physical system following https://arxiv.org/pdf/1910.02839. \n",
    "\n",
    "- Typically, we can obtain the spectral properties of the physical systems through the **double Fourier transformation** of the **unequal-time correlators** (UTC) from an **equilibrium state**, known as the spectral function or the dynamical structure factor. This is closely related to the pump-prove spectroscopic techniques in the experiements.\n",
    "\n",
    "- The newly introduct approach extracts the similar information from  the **double Fourier transformation** of the **equal-time correlators** (ETC) from a **non-equilibirum state**.\n",
    "\n"
   ]
  },
  {
   "cell_type": "markdown",
   "id": "fe916e34-10f6-4315-9cc6-9740b72dac04",
   "metadata": {},
   "source": [
    "----\n",
    "\n",
    "In general the unequal-time correlators are given as\n",
    "\n",
    "<img src=\"./img/1.png\" width=\"500\" /> \n",
    "\n",
    "and the euqal-time correlators are given as\n",
    "\n",
    "<img src=\"./img/2.png\" width=\"400\" />.\n",
    "\n",
    "\n",
    "By inserting the complete basis using the Hamiltonian eignestates, the double Fourier transformation of the ETC has the form\n",
    "\n",
    "<img src=\"./img/3.png\" width=\"500\" />.\n",
    "\n"
   ]
  },
  {
   "cell_type": "markdown",
   "id": "4b949658-1712-4052-81a8-ab609c905846",
   "metadata": {},
   "source": [
    "----\n",
    "\n",
    "Now suppose the non-equilibrium state we consider is a pure state that has large overlap with the ground state, i.e.,\n",
    "\n",
    "<img src=\"./img/4.png\" width=\"500\" />.\n",
    "\n",
    "\n",
    "One example is \n",
    "$$\n",
    "| \\psi \\rangle = (1 - \\epsilon) | 0 \\rangle + \\sum_{n\\neq0} \\epsilon_n |n\\rangle, \\qquad \\epsilon_n << 1\n",
    "$$\n",
    "\n",
    "Then the above Fourier transformation of the ETC can be expanded to \n",
    "\n",
    "<img src=\"./img/5.png\" width=\"700\" />,\n",
    "\n",
    "where the first term is just a delta peak at $\\omega=0$ and the last term gives the non-trivial contribution for positive frequency.\n",
    "\n",
    "Starting from the ground state $|0\\rangle$, we see the intermediate state has momentum $P_m = k$ and the excitation state $| n \\rangle $ has to have zero momentum indicating the second excitation from $m$ has to have opposite momentum $-k$, i.e., $|n\\rangle = \\hat{b}^\\dagger_{-k}\\hat{b}^\\dagger_{k}|0\\rangle$ with energy $E_n = 2E_k$.\n",
    "\n",
    "By this arugment we expect to obtain,\n",
    "\n",
    "<img src=\"./img/6.png\" width=\"300\" />\n",
    "\n",
    "where the weight $F(k)$ depends on the operators $\\hat{O}_1$ and $\\hat{O}_2$. The form indicate that we can also probe the excitation spectrum through the Fourier transformation of the ETC from a non-equilbrium state."
   ]
  },
  {
   "cell_type": "markdown",
   "id": "759939d2-68ab-4e1f-97fe-0fc7012d735e",
   "metadata": {},
   "source": [
    "------\n",
    "\n",
    "## Example: Transverse field Ising model\n",
    "\n",
    "An example is given by https://scipost.org/SciPostPhys.14.6.151 using Gaussian simulation. Aside from the contraint in the ansatz, the work exactly follows the protocal above to compute the quench spectral function.\n",
    "\n",
    "The Hamiltonian is given as\n",
    "$$\n",
    "H = - \\sum_{\\langle i, j \\rangle} X_i X_j - \\sum_i g Z_i\n",
    "$$\n",
    "\n",
    "Starting from infinite field ground state $g\\rightarrow\\infty$, they consider the quench to finite $g$ at the paramagnetic phase, i.e., not crossing the phase transition, and show that the can obtain the spectral function correctly.\n",
    "\n",
    "\n",
    "<img src=\"./img/QSF.png\" width=\"700\" />\n",
    "\n",
    "\n",
    "### Below we try to reproduce the same result."
   ]
  },
  {
   "cell_type": "markdown",
   "id": "423fa2d0-b124-4535-8af4-785ab6f036d3",
   "metadata": {},
   "source": []
  },
  {
   "cell_type": "markdown",
   "id": "434e1ae1-3901-420c-8e41-b2d0d4ac243f",
   "metadata": {},
   "source": []
  },
  {
   "cell_type": "markdown",
   "id": "9746e8b6-9eea-4c05-80e3-fabb77c1ee2d",
   "metadata": {},
   "source": []
  },
  {
   "cell_type": "code",
   "execution_count": null,
   "id": "3da5da74-9f20-4eec-baee-7d30210b1cc6",
   "metadata": {},
   "outputs": [],
   "source": []
  }
 ],
 "metadata": {
  "kernelspec": {
   "display_name": "Python 3 (ipykernel)",
   "language": "python",
   "name": "python3"
  },
  "language_info": {
   "codemirror_mode": {
    "name": "ipython",
    "version": 3
   },
   "file_extension": ".py",
   "mimetype": "text/x-python",
   "name": "python",
   "nbconvert_exporter": "python",
   "pygments_lexer": "ipython3",
   "version": "3.12.4"
  }
 },
 "nbformat": 4,
 "nbformat_minor": 5
}
